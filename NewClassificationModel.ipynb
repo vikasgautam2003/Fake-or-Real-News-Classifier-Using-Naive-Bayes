{
 "cells": [
  {
   "cell_type": "code",
   "execution_count": 2,
   "id": "63f6f856-f669-408d-9dba-266261305498",
   "metadata": {},
   "outputs": [
    {
     "name": "stdout",
     "output_type": "stream",
     "text": [
      "\n",
      "=== MultinomialNB Results ===\n",
      "              precision    recall  f1-score   support\n",
      "\n",
      "           0       0.95      0.96      0.96      1024\n",
      "           1       0.95      0.95      0.95       956\n",
      "\n",
      "    accuracy                           0.95      1980\n",
      "   macro avg       0.95      0.95      0.95      1980\n",
      "weighted avg       0.95      0.95      0.95      1980\n",
      "\n",
      "\n",
      "=== KNN Results ===\n",
      "              precision    recall  f1-score   support\n",
      "\n",
      "           0       0.99      0.97      0.98      1024\n",
      "           1       0.97      0.99      0.98       956\n",
      "\n",
      "    accuracy                           0.98      1980\n",
      "   macro avg       0.98      0.98      0.98      1980\n",
      "weighted avg       0.98      0.98      0.98      1980\n",
      "\n",
      "\n",
      "Confusion Matrix:\n",
      "[[990  34]\n",
      " [ 13 943]]\n"
     ]
    }
   ],
   "source": [
    "import pandas as pd\n",
    "import spacy\n",
    "import numpy as np\n",
    "from sklearn.model_selection import train_test_split\n",
    "from sklearn.naive_bayes import MultinomialNB\n",
    "from sklearn.preprocessing import MinMaxScaler\n",
    "from sklearn.metrics import classification_report, confusion_matrix\n",
    "from sklearn.neighbors import KNeighborsClassifier\n",
    "\n",
    "df = pd.read_csv(\"Fake_Real_Data.csv\")\n",
    "df['label_num'] = df['label'].map({'Fake' : 0, 'Real': 1})\n",
    "\n",
    "nlp = spacy.load(\"en_core_web_lg\")\n",
    "df['vector'] = df['Text'].apply(lambda text: nlp(text).vector)\n",
    "\n",
    "X_train, X_test, y_train, y_test = train_test_split(\n",
    "    df.vector.values,\n",
    "    df.label_num,\n",
    "    test_size=0.2,\n",
    "    random_state=2022\n",
    ")\n",
    "\n",
    "X_train_2d = np.stack(X_train)\n",
    "X_test_2d = np.stack(X_test)\n",
    "\n",
    "scaler = MinMaxScaler()\n",
    "scaled_train_embed = scaler.fit_transform(X_train_2d)\n",
    "scaled_test_embed = scaler.transform(X_test_2d)\n",
    "\n",
    "clf = MultinomialNB()\n",
    "clf.fit(scaled_train_embed, y_train)\n",
    "y_pred = clf.predict(scaled_test_embed)\n",
    "print(\"\\n=== MultinomialNB Results ===\")\n",
    "print(classification_report(y_test, y_pred))\n",
    "\n",
    "clf = KNeighborsClassifier(n_neighbors=5, metric='euclidean')\n",
    "clf.fit(X_train_2d, y_train)\n",
    "y_pred = clf.predict(X_test_2d)\n",
    "print(\"\\n=== KNN Results ===\")\n",
    "print(classification_report(y_test, y_pred))\n",
    "\n",
    "cm = confusion_matrix(y_test, y_pred)\n",
    "print(\"\\nConfusion Matrix:\")\n",
    "print(cm)\n"
   ]
  },
  {
   "cell_type": "code",
   "execution_count": 3,
   "id": "eed04984-4ada-41ae-9ad5-1d252b22a665",
   "metadata": {},
   "outputs": [
    {
     "name": "stdout",
     "output_type": "stream",
     "text": [
      "\n",
      "Text: Prime Minister launches new scheme to boost rural economy.\n",
      "Prediction: Real\n",
      "\n",
      "Text: Breaking: Aliens have landed in New York City!\n",
      "Prediction: Real\n",
      "\n",
      "Text: Stock markets rally as inflation fears ease.\n",
      "Prediction: Real\n",
      "\n",
      "Text: Shocking cure for cancer found in just 2 days!\n",
      "Prediction: Fake\n"
     ]
    }
   ],
   "source": [
    "# Example: testing on real news sentences\n",
    "new_texts = [\n",
    "    \"Prime Minister launches new scheme to boost rural economy.\",\n",
    "    \"Breaking: Aliens have landed in New York City!\",\n",
    "    \"Stock markets rally as inflation fears ease.\",\n",
    "    \"Shocking cure for cancer found in just 2 days!\"\n",
    "]\n",
    "\n",
    "# Convert to vectors using spaCy\n",
    "new_vectors = [nlp(text).vector for text in new_texts]\n",
    "new_vectors = np.stack(new_vectors)\n",
    "\n",
    "# Predict with the trained KNN model\n",
    "new_preds = clf.predict(new_vectors)\n",
    "\n",
    "# Map back to labels\n",
    "label_map = {0: \"Fake\", 1: \"Real\"}\n",
    "for text, pred in zip(new_texts, new_preds):\n",
    "    print(f\"\\nText: {text}\\nPrediction: {label_map[pred]}\")\n",
    "\n"
   ]
  },
  {
   "cell_type": "code",
   "execution_count": null,
   "id": "b97dd221-8266-47de-8a17-d0fa072952ee",
   "metadata": {},
   "outputs": [],
   "source": []
  }
 ],
 "metadata": {
  "kernelspec": {
   "display_name": "Python 3 (ipykernel)",
   "language": "python",
   "name": "python3"
  },
  "language_info": {
   "codemirror_mode": {
    "name": "ipython",
    "version": 3
   },
   "file_extension": ".py",
   "mimetype": "text/x-python",
   "name": "python",
   "nbconvert_exporter": "python",
   "pygments_lexer": "ipython3",
   "version": "3.12.4"
  }
 },
 "nbformat": 4,
 "nbformat_minor": 5
}
